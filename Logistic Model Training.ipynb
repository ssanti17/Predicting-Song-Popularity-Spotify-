{
 "cells": [
  {
   "cell_type": "code",
   "execution_count": 103,
   "id": "billion-allowance",
   "metadata": {},
   "outputs": [],
   "source": [
    "import os\n",
    "import pandas as pd\n",
    "import numpy as np\n",
    "import matplotlib.pyplot as plt\n",
    "import seaborn as sns"
   ]
  },
  {
   "cell_type": "code",
   "execution_count": 104,
   "id": "gentle-rally",
   "metadata": {},
   "outputs": [
    {
     "data": {
      "text/plain": [
       "25.693380889849703"
      ]
     },
     "execution_count": 104,
     "metadata": {},
     "output_type": "execute_result"
    }
   ],
   "source": [
    "#load final data set as spotify\n",
    "spotify = pd.read_csv(\"data.csv\")\n",
    "spotify.head(5)\n",
    "\n",
    "#calculate the popularity mean so we can make popularity a binary variable in following steps\n",
    "popularity_mean = np.mean(spotify['popularity'])\n",
    "popularity_mean"
   ]
  },
  {
   "cell_type": "code",
   "execution_count": 105,
   "id": "developing-hands",
   "metadata": {},
   "outputs": [],
   "source": [
    "#Going to drop the name, relesase date, id since it is not significant to the dependant variable, and we have season in lieu of release date\n",
    "spotify = spotify.drop(['name', 'artists', 'release_date', 'id'], axis = 1)\n",
    "#dummy variable for season\n",
    "season_dum = pd.get_dummies(spotify['Season'])\n",
    "spotify['Season'] = season_dum"
   ]
  },
  {
   "cell_type": "code",
   "execution_count": 106,
   "id": "religious-librarian",
   "metadata": {},
   "outputs": [
    {
     "data": {
      "text/plain": [
       "Unnamed: 0            int64\n",
       "acousticness        float64\n",
       "danceability        float64\n",
       "duration_ms           int64\n",
       "energy              float64\n",
       "explicit              int64\n",
       "instrumentalness    float64\n",
       "key                   int64\n",
       "liveness            float64\n",
       "loudness            float64\n",
       "mode                  int64\n",
       "popularity            int64\n",
       "speechiness         float64\n",
       "tempo               float64\n",
       "valence             float64\n",
       "year_x                int64\n",
       "Collaboration         int64\n",
       "Season                uint8\n",
       "Name Length           int64\n",
       "live                  int64\n",
       "love                  int64\n",
       "mix                   int64\n",
       "no                    int64\n",
       "op                    int64\n",
       "remast                int64\n",
       "version               int64\n",
       "year_y                int64\n",
       "dtype: object"
      ]
     },
     "execution_count": 106,
     "metadata": {},
     "output_type": "execute_result"
    }
   ],
   "source": [
    "spotify.dtypes"
   ]
  },
  {
   "cell_type": "code",
   "execution_count": 107,
   "id": "continent-ivory",
   "metadata": {},
   "outputs": [],
   "source": [
    "#dependant variable of the model is to predict the popularity of the artist.\n",
    "#we set popularity as a binary parameter. Popular = when the popularity of the artist is above the popularity_mean (25.69); Unpopular otherwise.\n",
    "\n",
    "#popular = np.sum()\n",
    "#unpopular = np.sum()"
   ]
  },
  {
   "cell_type": "code",
   "execution_count": 108,
   "id": "informal-rogers",
   "metadata": {},
   "outputs": [],
   "source": [
    "#modify dataframe to treat popularity as a binary variable\n",
    "def popularity(c):\n",
    "    if c['popularity'] > popularity_mean:\n",
    "        return 1\n",
    "    else:\n",
    "        return 0\n"
   ]
  },
  {
   "cell_type": "code",
   "execution_count": 109,
   "id": "reduced-grade",
   "metadata": {},
   "outputs": [],
   "source": [
    "#set popularity as a binary column: 1 means popular 0 means unpopular\n",
    "spotify['popularity'] = spotify.apply(popularity, axis = 1)"
   ]
  },
  {
   "cell_type": "code",
   "execution_count": 110,
   "id": "institutional-spain",
   "metadata": {},
   "outputs": [
    {
     "data": {
      "text/plain": [
       "((122072, 27), (52317, 27))"
      ]
     },
     "execution_count": 110,
     "metadata": {},
     "output_type": "execute_result"
    }
   ],
   "source": [
    "#split test and training data 30% test, 70% training set\n",
    "\n",
    "from sklearn.model_selection import train_test_split\n",
    "\n",
    "spotify_train, spotify_test = train_test_split(spotify, test_size=0.3, random_state=88)\n",
    "spotify_train.shape, spotify_test.shape"
   ]
  },
  {
   "cell_type": "code",
   "execution_count": 127,
   "id": "induced-perception",
   "metadata": {},
   "outputs": [],
   "source": [
    "x_train = spotify_train.drop(['popularity'], axis =1)\n",
    "y_train = spotify_train[['popularity']]\n",
    "\n",
    "x_test = spotify_test.drop(['popularity'], axis =1)\n",
    "y_test = spotify_test[['popularity']]"
   ]
  },
  {
   "cell_type": "code",
   "execution_count": 128,
   "id": "eastern-crash",
   "metadata": {},
   "outputs": [
    {
     "name": "stdout",
     "output_type": "stream",
     "text": [
      "Optimization terminated successfully.\n",
      "         Current function value: 0.513775\n",
      "         Iterations 7\n",
      "                           Logit Regression Results                           \n",
      "==============================================================================\n",
      "Dep. Variable:                      y   No. Observations:               122072\n",
      "Model:                          Logit   Df Residuals:                   122046\n",
      "Method:                           MLE   Df Model:                           25\n",
      "Date:                Sun, 02 May 2021   Pseudo R-squ.:                  0.2588\n",
      "Time:                        18:27:22   Log-Likelihood:                -62718.\n",
      "converged:                       True   LL-Null:                       -84613.\n",
      "Covariance Type:            nonrobust   LLR p-value:                     0.000\n",
      "==============================================================================\n",
      "                 coef    std err          z      P>|z|      [0.025      0.975]\n",
      "------------------------------------------------------------------------------\n",
      "x1         -7.761e-06   1.43e-07    -54.269      0.000   -8.04e-06   -7.48e-06\n",
      "x2            -2.1979      0.031    -71.965      0.000      -2.258      -2.138\n",
      "x3             0.1227      0.053      2.318      0.020       0.019       0.227\n",
      "x4          6.761e-07   5.09e-08     13.287      0.000    5.76e-07    7.76e-07\n",
      "x5             0.6509      0.058     11.217      0.000       0.537       0.765\n",
      "x6             1.3135      0.040     33.010      0.000       1.236       1.392\n",
      "x7            -1.5811      0.025    -63.757      0.000      -1.630      -1.533\n",
      "x8            -0.0031      0.002     -1.580      0.114      -0.007       0.001\n",
      "x9            -0.7627      0.044    -17.391      0.000      -0.849      -0.677\n",
      "x10           -0.0372      0.002    -16.574      0.000      -0.042      -0.033\n",
      "x11            0.0647      0.016      4.166      0.000       0.034       0.095\n",
      "x12           -4.6528      0.073    -63.795      0.000      -4.796      -4.510\n",
      "x13           -0.0006      0.000     -2.374      0.018      -0.001   -9.99e-05\n",
      "x14           -0.4900      0.036    -13.745      0.000      -0.560      -0.420\n",
      "x15            0.0012   3.78e-05     30.535      0.000       0.001       0.001\n",
      "x16           -0.4358      0.019    -22.722      0.000      -0.473      -0.398\n",
      "x17            0.5072      0.020     25.285      0.000       0.468       0.547\n",
      "x18           -0.0547      0.003    -19.868      0.000      -0.060      -0.049\n",
      "x19           -0.0718      0.045     -1.594      0.111      -0.160       0.016\n",
      "x20            0.1677      0.035      4.755      0.000       0.099       0.237\n",
      "x21           -2.0188      0.054    -37.606      0.000      -2.124      -1.914\n",
      "x22            0.2587      0.062      4.167      0.000       0.137       0.380\n",
      "x23           -0.4610      0.076     -6.086      0.000      -0.609      -0.313\n",
      "x24           -0.0954      0.028     -3.356      0.001      -0.151      -0.040\n",
      "x25           -0.0135      0.043     -0.312      0.755      -0.098       0.071\n",
      "x26           -2.7723      0.065    -42.356      0.000      -2.901      -2.644\n",
      "==============================================================================\n"
     ]
    }
   ],
   "source": [
    "import statsmodels.api as smf\n",
    "#building model and fitting data\n",
    "log_reg = smf.Logit(np.asarray(y_train), np.asarray(x_train)).fit()\n",
    "\n",
    "#visualize summary. Can drop columns x1, x4, x15 since coef are minimal\n",
    "print(log_reg.summary())"
   ]
  },
  {
   "cell_type": "code",
   "execution_count": 129,
   "id": "suburban-reviewer",
   "metadata": {},
   "outputs": [
    {
     "name": "stdout",
     "output_type": "stream",
     "text": [
      "Confusion matrixx : \n",
      " [[19141  7019]\n",
      " [ 5768 20389]]\n"
     ]
    }
   ],
   "source": [
    "#define y_hat as the predicted value of y for test dataset\n",
    "y_hat = log_reg.predict(x_test)\n",
    "prediction = list(map(round, y_hat))\n",
    "\n",
    "from sklearn.metrics import (confusion_matrix,\n",
    "                            accuracy_score)\n",
    "\n",
    "#confusion matrix\n",
    "cm = confusion_matrix(y_test, prediction)\n",
    "print(\"Confusion matrixx : \\n\", cm)"
   ]
  },
  {
   "cell_type": "code",
   "execution_count": 130,
   "id": "modular-protein",
   "metadata": {},
   "outputs": [
    {
     "name": "stdout",
     "output_type": "stream",
     "text": [
      "Test Accuracy =  0.7555861383489114\n"
     ]
    }
   ],
   "source": [
    "#accuracy of the model\n",
    "print('Test Accuracy = ', accuracy_score(y_test, prediction))"
   ]
  },
  {
   "cell_type": "code",
   "execution_count": null,
   "id": "arbitrary-clearing",
   "metadata": {},
   "outputs": [],
   "source": []
  },
  {
   "cell_type": "code",
   "execution_count": null,
   "id": "corrected-probability",
   "metadata": {},
   "outputs": [],
   "source": []
  }
 ],
 "metadata": {
  "kernelspec": {
   "display_name": "Python 3",
   "language": "python",
   "name": "python3"
  },
  "language_info": {
   "codemirror_mode": {
    "name": "ipython",
    "version": 3
   },
   "file_extension": ".py",
   "mimetype": "text/x-python",
   "name": "python",
   "nbconvert_exporter": "python",
   "pygments_lexer": "ipython3",
   "version": "3.6.12"
  }
 },
 "nbformat": 4,
 "nbformat_minor": 5
}
